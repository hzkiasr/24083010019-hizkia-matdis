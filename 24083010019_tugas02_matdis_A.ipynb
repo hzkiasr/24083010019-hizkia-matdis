{
  "nbformat": 4,
  "nbformat_minor": 0,
  "metadata": {
    "colab": {
      "provenance": []
    },
    "kernelspec": {
      "name": "python3",
      "display_name": "Python 3"
    },
    "language_info": {
      "name": "python"
    }
  },
  "cells": [
    {
      "cell_type": "markdown",
      "source": [
        "NAMA: HIZKIA SAMHAN REZAYOSHI\n",
        "\n",
        "NPM: 24083010019\n",
        "\n",
        "MATA KULIAH: MATEMATIKA DISKRIT A"
      ],
      "metadata": {
        "id": "ohthhNguKpKN"
      }
    },
    {
      "cell_type": "code",
      "execution_count": 6,
      "metadata": {
        "id": "nzL36lUIKFrB"
      },
      "outputs": [],
      "source": [
        "import math\n",
        "\n",
        "def soal1_sisi_kiri(n):\n",
        "    return sum(2*k - 1 for k in range(1, n+1))\n",
        "\n",
        "def soal1_sisi_kanan(n):\n",
        "    return n**2\n",
        "\n",
        "# Soal 2\n",
        "def soal2_sisi_kiri(n):\n",
        "    return sum(2**k for k in range(0, n+1))\n",
        "\n",
        "def soal2_sisi_kanan(n):\n",
        "    return 2**(n+1) - 1"
      ]
    },
    {
      "cell_type": "code",
      "source": [
        "\n",
        "print(\"Soal 1:\", soal1_sisi_kiri(2), \"==\", soal1_sisi_kanan(2))\n",
        "print(\"Soal 2:\", soal2_sisi_kiri(4), \"==\", soal2_sisi_kanan(4))"
      ],
      "metadata": {
        "colab": {
          "base_uri": "https://localhost:8080/"
        },
        "id": "8DoNDdT5LNUh",
        "outputId": "1aae29c6-5ad3-4e2b-e4a4-1b0707013b71"
      },
      "execution_count": 7,
      "outputs": [
        {
          "output_type": "stream",
          "name": "stdout",
          "text": [
            "Soal 1: 4 == 4\n",
            "Soal 2: 31 == 31\n"
          ]
        }
      ]
    },
    {
      "cell_type": "code",
      "source": [],
      "metadata": {
        "id": "qbJT06QHLUhV"
      },
      "execution_count": null,
      "outputs": []
    }
  ]
}